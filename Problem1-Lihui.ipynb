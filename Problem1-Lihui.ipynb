{
 "cells": [
  {
   "cell_type": "code",
   "execution_count": 1,
   "id": "22ce8b53",
   "metadata": {},
   "outputs": [
    {
     "name": "stderr",
     "output_type": "stream",
     "text": [
      "/home/microway/anaconda3/lib/python3.9/site-packages/xarray/backends/cfgrib_.py:29: UserWarning: Failed to load cfgrib - most likely there is a problem accessing the ecCodes library. Try `import cfgrib` to get the full error message\n",
      "  warnings.warn(\n",
      "/home/microway/anaconda3/lib/python3.9/abc.py:106: FutureWarning: xarray subclass customProfile should explicitly define __slots__\n",
      "  cls = super().__new__(mcls, name, bases, namespace, **kwargs)\n"
     ]
    }
   ],
   "source": [
    "import sys\n",
    "import traceback\n",
    "import numpy as np\n",
    "import matplotlib\n",
    "import matplotlib.pyplot as plt\n",
    "import seaborn as sns\n",
    "import pandas as pn\n",
    "import xarray as xr\n",
    "import scipy.stats as stats\n",
    "\n",
    "import pyOptimalEstimation as pyOE\n",
    "\n",
    "%matplotlib inline\n",
    "sns.set(style='ticks', palette='deep')\n",
    "\n",
    "sys.path.append('lib')\n",
    "import nonScatMWRadTran\n",
    "import supporting_routines"
   ]
  },
  {
   "cell_type": "code",
   "execution_count": 2,
   "id": "2f51150f",
   "metadata": {},
   "outputs": [
    {
     "name": "stderr",
     "output_type": "stream",
     "text": [
      "/home/microway/anaconda3/lib/python3.9/site-packages/xarray/backends/plugins.py:71: RuntimeWarning: Engine 'cfgrib' loading failed:\n",
      "Cannot find the ecCodes library\n",
      "  warnings.warn(f\"Engine {name!r} loading failed:\\n{ex}\", RuntimeWarning)\n"
     ]
    }
   ],
   "source": [
    "prior = xr.open_dataset('data/radiosonde_climatology_nsa_2002-2020.nc')"
   ]
  },
  {
   "cell_type": "code",
   "execution_count": 9,
   "id": "666a626b",
   "metadata": {},
   "outputs": [],
   "source": [
    "profileTT = np.array([\n",
    "    '2004-03-16T12:00:00.000000000', '2006-04-01T00:00:00.000000000',\n",
    "    '2009-01-30T18:00:00.000000000', '2014-07-27T06:00:00.000000000',\n",
    "    '2018-01-08T12:00:00.000000000'\n",
    "],dtype='datetime64[ns]')\n",
    "\n",
    "profiles = prior.sel(time=profileTT)\n",
    "prior = prior.drop_sel(time=profileTT)\n",
    "nLev = len(prior.height)"
   ]
  },
  {
   "cell_type": "code",
   "execution_count": 3,
   "id": "9c9cc217",
   "metadata": {},
   "outputs": [],
   "source": [
    "priors = {'all': prior}\n",
    "\n",
    "seasons = [\n",
    "    'DJF',\n",
    "    'MAM',\n",
    "    'JJA',\n",
    "    'SON',\n",
    "]\n",
    "months = (\n",
    "    [12, 1, 2],\n",
    "    [3, 4, 5],\n",
    "    [6, 7, 8],\n",
    "    [9, 10, 11],\n",
    ")\n",
    "for season, month in zip(seasons, months):\n",
    "    priors[season] = prior.where(\n",
    "        np.in1d(prior['time.month'], month)[:, np.newaxis]).dropna(\n",
    "            'time', how='all')"
   ]
  },
  {
   "cell_type": "code",
   "execution_count": 4,
   "id": "c0a42c0d",
   "metadata": {},
   "outputs": [],
   "source": [
    "prior_qts = {}\n",
    "for season in priors.keys():\n",
    "    prior_q = priors[season]['q'].to_pandas()\n",
    "    prior_q.columns = ['%05i_q' % (i) for i in prior_q.columns]\n",
    "    prior_t = priors[season]['temp'].to_pandas()\n",
    "    prior_t.columns = ['%05i_t' % (i) for i in prior_t.columns]\n",
    "    prior_qts[season] = pn.concat((prior_q, prior_t), axis=1)\n",
    "    prior_qts[season] = prior_qts[season].reindex(\n",
    "        sorted(prior_qts[season].columns), axis=1)\n"
   ]
  },
  {
   "cell_type": "code",
   "execution_count": 5,
   "id": "6dc0a1de",
   "metadata": {},
   "outputs": [],
   "source": [
    "x_cov = []\n",
    "x_mean = []\n",
    "\n",
    "for season in ['all'] + seasons:\n",
    "\n",
    "    x_cov1 = prior_qts[season].cov().rename_axis('state', axis=0).rename_axis('stateT', axis=1)\n",
    "    x_mean1 = prior_qts[season].mean().rename_axis('state', axis=0)\n",
    "\n",
    "    x_cov.append(xr.DataArray(x_cov1))\n",
    "    x_mean.append(xr.DataArray(x_mean1))\n",
    "\n",
    "x_cov = xr.concat(x_cov, dim='season')\n",
    "x_mean = xr.concat(x_mean, dim='season')\n",
    "\n",
    "x_cov['season'] = ['all'] + seasons\n",
    "x_mean['season'] = ['all'] + seasons"
   ]
  },
  {
   "cell_type": "code",
   "execution_count": 7,
   "id": "96015f45",
   "metadata": {},
   "outputs": [],
   "source": [
    "height = priors['all'].height\n",
    "\n",
    "pressure = []\n",
    "for k in ['all'] + seasons:\n",
    "    pressure.append(priors[k].bar_pres.mean('time'))\n",
    "pressure = xr.concat(pressure, dim='season')\n",
    "pressure['season'] = ['all'] + seasons\n",
    "pressure = pressure.to_pandas()\n",
    "# pressure"
   ]
  },
  {
   "cell_type": "code",
   "execution_count": 11,
   "id": "4aee1b7e",
   "metadata": {},
   "outputs": [
    {
     "name": "stderr",
     "output_type": "stream",
     "text": [
      "/tmp/ipykernel_137338/1542091133.py:6: FutureWarning: In a future version of pandas all arguments of concat except for the argument 'objs' will be keyword-only.\n",
      "  x_truths = pn.concat((profiles_t, profiles_q), 1)\n"
     ]
    }
   ],
   "source": [
    "profiles_t = profiles['temp'].to_pandas()\n",
    "profiles_t.columns = ['%05i_t' % (i) for i in profiles_t.columns]\n",
    "profiles_q = profiles['q'].to_pandas()\n",
    "profiles_q.columns = ['%05i_q' % (i) for i in profiles_q.columns]\n",
    "\n",
    "x_truths = pn.concat((profiles_t, profiles_q), 1)\n",
    "x_truths = x_truths.reindex(sorted(x_truths.index), axis=0)\n",
    "x_truths.columns.name = 'state'\n",
    "x_truths.index.name = 'time'\n",
    "\n",
    "assert np.all(np.isfinite(x_truths))\n",
    "# x_truths"
   ]
  },
  {
   "cell_type": "code",
   "execution_count": 13,
   "id": "5f939c41",
   "metadata": {},
   "outputs": [],
   "source": [
    "def forwardRT(X, pressure=None, zenithAngle=0, frequencies=[]):\n",
    "\n",
    "    # X contains T and Q, lets split the vector\n",
    "    temperature, humidity = supporting_routines.splitTQ(X)\n",
    "    # humdity is in log10 scale, convert to linear in kg/kg\n",
    "    humidity = (10**humidity) / 1000.\n",
    "    # Height in meters comes from index of the temperature (or humidty) vector\n",
    "    heights = temperature.index\n",
    "    assert np.all(np.diff(heights) > 0)\n",
    "\n",
    "    # get absolute humidty from specific humdity\n",
    "    abs_humidity = supporting_routines.q2a(humidity, pressure, temperature)\n",
    "    \n",
    "    # run the forward operator\n",
    "    TB, tau, tau_wv, tau_o2 = nonScatMWRadTran.STP_IM10(\n",
    "        heights,  # [m]  \n",
    "        temperature,  # [K]\n",
    "        pressure,  # [Pa]\n",
    "        abs_humidity,  # [kgm^-3]\n",
    "        zenithAngle,  # zenith angle of observation in deg.\n",
    "        frequencies,  # frequency vector in GHz\n",
    "    )\n",
    "    return TB\n"
   ]
  },
  {
   "cell_type": "code",
   "execution_count": 14,
   "id": "7637d2dc",
   "metadata": {},
   "outputs": [],
   "source": [
    "frequencies = [\n",
    "    22.24, 23.04, 23.84, 25.44, 26.24, 27.84, 31.4, 51.26, 52.28, 53.86, 54.94,\n",
    "    56.66, 57.3, 58.\n",
    "]\n",
    "y_vars = np.array(frequencies)\n",
    "x_vars = x_mean.state.values"
   ]
  },
  {
   "cell_type": "code",
   "execution_count": 19,
   "id": "cb4eafac",
   "metadata": {},
   "outputs": [],
   "source": [
    "season = 'MAM'  #Spring: March April May\n",
    "profile = np.datetime64('2006-04-01T00:00:00')\n",
    "x_truth = x_truths.loc[profile]"
   ]
  },
  {
   "cell_type": "code",
   "execution_count": 16,
   "id": "a8481f20",
   "metadata": {},
   "outputs": [],
   "source": [
    "y_noise = pn.Series(\n",
    "    [\n",
    "        0.12026637, 0.10864162, 0.10412012, 0.0918477, 0.10174478, 0.10085633,\n",
    "        0.10500476, 0.42303663, 0.45658514, 0.26291823, 0.25538793, 0.1773584,\n",
    "        0.17556195, 0.59489495\n",
    "    ],\n",
    "    index=y_vars\n",
    ")\n",
    "\n",
    "S_y = pn.DataFrame(\n",
    "    np.diag(y_noise.values**2),\n",
    "    index=y_vars,\n",
    "    columns=y_vars,\n",
    ")\n"
   ]
  },
  {
   "cell_type": "code",
   "execution_count": 17,
   "id": "c0c10cfa",
   "metadata": {},
   "outputs": [],
   "source": [
    "x_a = x_mean.sel(season='MAM').to_pandas()[x_vars]\n",
    "S_a = x_cov.sel(season='MAM').to_pandas().loc[x_vars, x_vars]"
   ]
  },
  {
   "cell_type": "code",
   "execution_count": 20,
   "id": "ca471034",
   "metadata": {},
   "outputs": [],
   "source": [
    "forwardKwArgs = dict(\n",
    "    pressure=pressure.loc['MAM'].values,\n",
    "    zenithAngle=0,\n",
    "    frequencies=frequencies\n",
    ")\n",
    "\n",
    "y_obs = forwardRT(x_truth, **forwardKwArgs)\n",
    "y_obs = pn.Series(y_obs, index=y_vars)\n",
    "assert np.all(np.isfinite(y_obs))"
   ]
  },
  {
   "cell_type": "code",
   "execution_count": 21,
   "id": "a569d7d7",
   "metadata": {},
   "outputs": [],
   "source": [
    "oe_ref = pyOE.optimalEstimation(\n",
    "    x_vars, # state variable names\n",
    "    x_a,  # a priori\n",
    "    S_a, # a priori uncertainty\n",
    "    y_vars,  # measurement variable names\n",
    "    y_obs, # observations\n",
    "    S_y, # observation uncertainty\n",
    "    forwardRT, # forward Operator\n",
    "    forwardKwArgs=forwardKwArgs, # additonal function arguments\n",
    "    x_truth=x_truth, # true profile\n",
    ")"
   ]
  },
  {
   "cell_type": "code",
   "execution_count": 22,
   "id": "dd435349",
   "metadata": {},
   "outputs": [
    {
     "name": "stdout",
     "output_type": "stream",
     "text": [
      "0.70 s, iteration 1, degrees of freedom: 6.61 of 120, not converged (x-space):  787781.130\n",
      "1.04 s, iteration 2, degrees of freedom: 6.28 of 120, not converged (x-space):  309558.850\n",
      "1.38 s, iteration 3, degrees of freedom: 6.43 of 120, not converged (x-space):  60835.964\n",
      "1.72 s, iteration 4, degrees of freedom: 6.51 of 120, not converged (x-space):  8269.530\n",
      "2.06 s, iteration 5, degrees of freedom: 6.60 of 120, not converged (x-space):  2319.170\n",
      "2.39 s, iteration 6, degrees of freedom: 6.67 of 120, not converged (x-space):  983.101\n",
      "2.73 s, iteration 7, degrees of freedom: 6.64 of 120, not converged (x-space):  732.088\n",
      "3.07 s, iteration 8, degrees of freedom: 6.46 of 120, not converged (x-space):  856.997\n",
      "3.40 s, iteration 9, degrees of freedom: 6.38 of 120, not converged (x-space):  242.217\n"
     ]
    },
    {
     "data": {
      "text/plain": [
       "False"
      ]
     },
     "execution_count": 22,
     "metadata": {},
     "output_type": "execute_result"
    }
   ],
   "source": [
    "oe_ref.doRetrieval()"
   ]
  },
  {
   "cell_type": "code",
   "execution_count": 23,
   "id": "06521141",
   "metadata": {},
   "outputs": [
    {
     "ename": "AttributeError",
     "evalue": "'float' object has no attribute 'index'",
     "output_type": "error",
     "traceback": [
      "\u001b[0;31m---------------------------------------------------------------------------\u001b[0m",
      "\u001b[0;31mAttributeError\u001b[0m                            Traceback (most recent call last)",
      "Input \u001b[0;32mIn [23]\u001b[0m, in \u001b[0;36m<cell line: 1>\u001b[0;34m()\u001b[0m\n\u001b[0;32m----> 1\u001b[0m fig \u001b[38;5;241m=\u001b[39m \u001b[43msupporting_routines\u001b[49m\u001b[38;5;241;43m.\u001b[39;49m\u001b[43mplotMwrResults\u001b[49m\u001b[43m(\u001b[49m\n\u001b[1;32m      2\u001b[0m \u001b[43m    \u001b[49m\u001b[43moe_ref\u001b[49m\u001b[43m,\u001b[49m\n\u001b[1;32m      3\u001b[0m \u001b[43m    \u001b[49m\u001b[43mh\u001b[49m\u001b[38;5;241;43m=\u001b[39;49m\u001b[43mpressure\u001b[49m\u001b[38;5;241;43m.\u001b[39;49m\u001b[43mloc\u001b[49m\u001b[43m[\u001b[49m\u001b[43mseason\u001b[49m\u001b[43m]\u001b[49m\u001b[43m \u001b[49m\u001b[38;5;241;43m/\u001b[39;49m\u001b[43m \u001b[49m\u001b[38;5;241;43m100\u001b[39;49m\u001b[43m,\u001b[49m\n\u001b[1;32m      4\u001b[0m \u001b[43m    \u001b[49m\u001b[43mhlabel\u001b[49m\u001b[38;5;241;43m=\u001b[39;49m\u001b[38;5;124;43m'\u001b[39;49m\u001b[38;5;124;43mPressure [hPa]\u001b[39;49m\u001b[38;5;124;43m'\u001b[39;49m\u001b[43m,\u001b[49m\n\u001b[1;32m      5\u001b[0m \u001b[43m    \u001b[49m\u001b[43mtitle\u001b[49m\u001b[38;5;241;43m=\u001b[39;49m\u001b[38;5;124;43m'\u001b[39;49m\u001b[38;5;124;43mReference run\u001b[39;49m\u001b[38;5;124;43m'\u001b[39;49m\u001b[43m)\u001b[49m\n",
      "File \u001b[0;32m~/pyOptimalEstimation_examples/lib/supporting_routines.py:317\u001b[0m, in \u001b[0;36mplotMwrResults\u001b[0;34m(oe1, title, oe2, title2, oe3, title3, h, hlabel, xlimT, xlimH)\u001b[0m\n\u001b[1;32m    313\u001b[0m     ax1\u001b[38;5;241m.\u001b[39mset_visible(\u001b[38;5;28;01mFalse\u001b[39;00m)\n\u001b[1;32m    315\u001b[0m \u001b[38;5;28;01mfor\u001b[39;00m oe, ax1, ax2, tit \u001b[38;5;129;01min\u001b[39;00m \u001b[38;5;28mzip\u001b[39m(\u001b[38;5;241m*\u001b[39mvals):\n\u001b[0;32m--> 317\u001b[0m     t_op, q_op \u001b[38;5;241m=\u001b[39m \u001b[43msplitTQ\u001b[49m\u001b[43m(\u001b[49m\u001b[43moe\u001b[49m\u001b[38;5;241;43m.\u001b[39;49m\u001b[43mx_op\u001b[49m\u001b[43m)\u001b[49m\n\u001b[1;32m    318\u001b[0m     t_op_err, q_op_err \u001b[38;5;241m=\u001b[39m splitTQ(oe\u001b[38;5;241m.\u001b[39mx_op_err)\n\u001b[1;32m    319\u001b[0m     t_a, q_a \u001b[38;5;241m=\u001b[39m splitTQ(oe\u001b[38;5;241m.\u001b[39mx_a)\n",
      "File \u001b[0;32m~/pyOptimalEstimation_examples/lib/supporting_routines.py:271\u001b[0m, in \u001b[0;36msplitTQ\u001b[0;34m(x)\u001b[0m\n\u001b[1;32m    270\u001b[0m \u001b[38;5;28;01mdef\u001b[39;00m \u001b[38;5;21msplitTQ\u001b[39m(x):\n\u001b[0;32m--> 271\u001b[0m     t_index \u001b[38;5;241m=\u001b[39m [i \u001b[38;5;28;01mfor\u001b[39;00m i \u001b[38;5;129;01min\u001b[39;00m \u001b[43mx\u001b[49m\u001b[38;5;241;43m.\u001b[39;49m\u001b[43mindex\u001b[49m \u001b[38;5;28;01mif\u001b[39;00m i\u001b[38;5;241m.\u001b[39mendswith(\u001b[38;5;124m'\u001b[39m\u001b[38;5;124mt\u001b[39m\u001b[38;5;124m'\u001b[39m)]\n\u001b[1;32m    272\u001b[0m     q_index \u001b[38;5;241m=\u001b[39m [i \u001b[38;5;28;01mfor\u001b[39;00m i \u001b[38;5;129;01min\u001b[39;00m x\u001b[38;5;241m.\u001b[39mindex \u001b[38;5;28;01mif\u001b[39;00m i\u001b[38;5;241m.\u001b[39mendswith(\u001b[38;5;124m'\u001b[39m\u001b[38;5;124mq\u001b[39m\u001b[38;5;124m'\u001b[39m)]\n\u001b[1;32m    273\u001b[0m     h_index \u001b[38;5;241m=\u001b[39m [\u001b[38;5;28mfloat\u001b[39m(i\u001b[38;5;241m.\u001b[39msplit(\u001b[38;5;124m'\u001b[39m\u001b[38;5;124m_\u001b[39m\u001b[38;5;124m'\u001b[39m)[\u001b[38;5;241m0\u001b[39m]) \u001b[38;5;28;01mfor\u001b[39;00m i \u001b[38;5;129;01min\u001b[39;00m x\u001b[38;5;241m.\u001b[39mindex \u001b[38;5;28;01mif\u001b[39;00m i\u001b[38;5;241m.\u001b[39mendswith(\u001b[38;5;124m'\u001b[39m\u001b[38;5;124mq\u001b[39m\u001b[38;5;124m'\u001b[39m)]\n",
      "\u001b[0;31mAttributeError\u001b[0m: 'float' object has no attribute 'index'"
     ]
    },
    {
     "data": {
      "image/png": "[encoded data removed]",
      "text/plain": [
       "<Figure size 360x288 with 2 Axes>"
      ]
     },
     "metadata": {},
     "output_type": "display_data"
    }
   ],
   "source": [
    "fig = supporting_routines.plotMwrResults(\n",
    "    oe_ref,\n",
    "    h=pressure.loc[season] / 100,\n",
    "    hlabel='Pressure [hPa]',\n",
    "    title='Reference run')"
   ]
  },
  {
   "cell_type": "code",
   "execution_count": 24,
   "id": "a529a0de",
   "metadata": {},
   "outputs": [
    {
     "ename": "AttributeError",
     "evalue": "'float' object has no attribute 'index'",
     "output_type": "error",
     "traceback": [
      "\u001b[0;31m---------------------------------------------------------------------------\u001b[0m",
      "\u001b[0;31mAttributeError\u001b[0m                            Traceback (most recent call last)",
      "Input \u001b[0;32mIn [24]\u001b[0m, in \u001b[0;36m<cell line: 1>\u001b[0;34m()\u001b[0m\n\u001b[0;32m----> 1\u001b[0m T_optimal, Q_optimal \u001b[38;5;241m=\u001b[39m \u001b[43msupporting_routines\u001b[49m\u001b[38;5;241;43m.\u001b[39;49m\u001b[43msplitTQ\u001b[49m\u001b[43m(\u001b[49m\u001b[43moe_ref\u001b[49m\u001b[38;5;241;43m.\u001b[39;49m\u001b[43mx_op\u001b[49m\u001b[43m)\u001b[49m\n\u001b[1;32m      2\u001b[0m T_truth, Q_truth \u001b[38;5;241m=\u001b[39m supporting_routines\u001b[38;5;241m.\u001b[39msplitTQ(oe_ref\u001b[38;5;241m.\u001b[39mx_truth)\n\u001b[1;32m      4\u001b[0m \u001b[38;5;28mprint\u001b[39m(\u001b[38;5;124m'\u001b[39m\u001b[38;5;124mRMS X Temperature: \u001b[39m\u001b[38;5;132;01m%g\u001b[39;00m\u001b[38;5;124m [K]\u001b[39m\u001b[38;5;124m'\u001b[39m\u001b[38;5;241m%\u001b[39m np\u001b[38;5;241m.\u001b[39msqrt(np\u001b[38;5;241m.\u001b[39mmean((T_optimal \u001b[38;5;241m-\u001b[39m T_truth)\u001b[38;5;241m*\u001b[39m\u001b[38;5;241m*\u001b[39m\u001b[38;5;241m2\u001b[39m)))\n",
      "File \u001b[0;32m~/pyOptimalEstimation_examples/lib/supporting_routines.py:271\u001b[0m, in \u001b[0;36msplitTQ\u001b[0;34m(x)\u001b[0m\n\u001b[1;32m    270\u001b[0m \u001b[38;5;28;01mdef\u001b[39;00m \u001b[38;5;21msplitTQ\u001b[39m(x):\n\u001b[0;32m--> 271\u001b[0m     t_index \u001b[38;5;241m=\u001b[39m [i \u001b[38;5;28;01mfor\u001b[39;00m i \u001b[38;5;129;01min\u001b[39;00m \u001b[43mx\u001b[49m\u001b[38;5;241;43m.\u001b[39;49m\u001b[43mindex\u001b[49m \u001b[38;5;28;01mif\u001b[39;00m i\u001b[38;5;241m.\u001b[39mendswith(\u001b[38;5;124m'\u001b[39m\u001b[38;5;124mt\u001b[39m\u001b[38;5;124m'\u001b[39m)]\n\u001b[1;32m    272\u001b[0m     q_index \u001b[38;5;241m=\u001b[39m [i \u001b[38;5;28;01mfor\u001b[39;00m i \u001b[38;5;129;01min\u001b[39;00m x\u001b[38;5;241m.\u001b[39mindex \u001b[38;5;28;01mif\u001b[39;00m i\u001b[38;5;241m.\u001b[39mendswith(\u001b[38;5;124m'\u001b[39m\u001b[38;5;124mq\u001b[39m\u001b[38;5;124m'\u001b[39m)]\n\u001b[1;32m    273\u001b[0m     h_index \u001b[38;5;241m=\u001b[39m [\u001b[38;5;28mfloat\u001b[39m(i\u001b[38;5;241m.\u001b[39msplit(\u001b[38;5;124m'\u001b[39m\u001b[38;5;124m_\u001b[39m\u001b[38;5;124m'\u001b[39m)[\u001b[38;5;241m0\u001b[39m]) \u001b[38;5;28;01mfor\u001b[39;00m i \u001b[38;5;129;01min\u001b[39;00m x\u001b[38;5;241m.\u001b[39mindex \u001b[38;5;28;01mif\u001b[39;00m i\u001b[38;5;241m.\u001b[39mendswith(\u001b[38;5;124m'\u001b[39m\u001b[38;5;124mq\u001b[39m\u001b[38;5;124m'\u001b[39m)]\n",
      "\u001b[0;31mAttributeError\u001b[0m: 'float' object has no attribute 'index'"
     ]
    }
   ],
   "source": [
    "T_optimal, Q_optimal = supporting_routines.splitTQ(oe_ref.x_op)\n",
    "T_truth, Q_truth = supporting_routines.splitTQ(oe_ref.x_truth)\n",
    "\n",
    "print('RMS X Temperature: %g [K]'% np.sqrt(np.mean((T_optimal - T_truth)**2)))\n",
    "print('RMS X Humidity: %g [log$_{10}$(g/kg)]'% np.sqrt(np.mean((10**Q_optimal - 10**Q_truth)**2)))\n",
    "print('RMS Y %g [K]'% np.sqrt(np.mean((oe_ref.y_obs - oe_ref.y_op)**2)))"
   ]
  },
  {
   "cell_type": "code",
   "execution_count": null,
   "id": "9617b539",
   "metadata": {},
   "outputs": [],
   "source": []
  }
 ],
 "metadata": {
  "kernelspec": {
   "display_name": "Python 3 (ipykernel)",
   "language": "python",
   "name": "python3"
  },
  "language_info": {
   "codemirror_mode": {
    "name": "ipython",
    "version": 3
   },
   "file_extension": ".py",
   "mimetype": "text/x-python",
   "name": "python",
   "nbconvert_exporter": "python",
   "pygments_lexer": "ipython3",
   "version": "3.9.12"
  }
 },
 "nbformat": 4,
 "nbformat_minor": 5
}
